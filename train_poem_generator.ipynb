{
 "cells": [
  {
   "cell_type": "markdown",
   "id": "5bbbdbe5",
   "metadata": {},
   "source": [
    "#  Shakespear Poem generation with Predicting the next word"
   ]
  },
  {
   "cell_type": "code",
   "execution_count": 11,
   "id": "43697127",
   "metadata": {},
   "outputs": [
    {
     "name": "stdout",
     "output_type": "stream",
     "text": [
      "2.10.0\n"
     ]
    }
   ],
   "source": [
    "import numpy as np\n",
    "import matplotlib.pyplot as plt\n",
    "import tensorflow as tf \n",
    "print(tf.__version__)\n",
    "\n",
    "from tensorflow.keras.models import Sequential, Model\n",
    "from tensorflow.keras.utils import to_categorical\n",
    "from tensorflow.keras.preprocessing.text import Tokenizer\n",
    "from tensorflow.keras.preprocessing.sequence import pad_sequences\n",
    "from tensorflow.keras.layers import Embedding, LSTM, Dense, Bidirectional, Attention, Input "
   ]
  },
  {
   "cell_type": "markdown",
   "id": "bde41b5b",
   "metadata": {},
   "source": [
    "For this project we will be using the [Shakespeare Sonnets Dataset](https://www.opensourceshakespeare.org/views/sonnets/sonnet_view.php?range=viewrange&sonnetrange1=1&sonnetrange2=154), which contains more than 2000 lines of text extracted from Shakespeare's sonnets."
   ]
  },
  {
   "cell_type": "code",
   "execution_count": 14,
   "id": "bee95e62",
   "metadata": {},
   "outputs": [
    {
     "name": "stdout",
     "output_type": "stream",
     "text": [
      "Requirement already satisfied: gdown==5.1.0 in c:\\users\\asus\\anaconda3\\lib\\site-packages (5.1.0)\n",
      "Requirement already satisfied: beautifulsoup4 in c:\\users\\asus\\anaconda3\\lib\\site-packages (from gdown==5.1.0) (4.12.3)\n",
      "Requirement already satisfied: filelock in c:\\users\\asus\\anaconda3\\lib\\site-packages (from gdown==5.1.0) (3.13.1)\n",
      "Requirement already satisfied: requests[socks] in c:\\users\\asus\\anaconda3\\lib\\site-packages (from gdown==5.1.0) (2.32.3)\n",
      "Requirement already satisfied: tqdm in c:\\users\\asus\\anaconda3\\lib\\site-packages (from gdown==5.1.0) (4.66.5)\n",
      "Requirement already satisfied: soupsieve>1.2 in c:\\users\\asus\\anaconda3\\lib\\site-packages (from beautifulsoup4->gdown==5.1.0) (2.5)\n",
      "Requirement already satisfied: charset-normalizer<4,>=2 in c:\\users\\asus\\anaconda3\\lib\\site-packages (from requests[socks]->gdown==5.1.0) (3.3.2)\n",
      "Requirement already satisfied: idna<4,>=2.5 in c:\\users\\asus\\anaconda3\\lib\\site-packages (from requests[socks]->gdown==5.1.0) (3.7)\n",
      "Requirement already satisfied: urllib3<3,>=1.21.1 in c:\\users\\asus\\anaconda3\\lib\\site-packages (from requests[socks]->gdown==5.1.0) (2.3.0)\n",
      "Requirement already satisfied: certifi>=2017.4.17 in c:\\users\\asus\\anaconda3\\lib\\site-packages (from requests[socks]->gdown==5.1.0) (2024.12.14)\n",
      "Requirement already satisfied: PySocks!=1.5.7,>=1.5.6 in c:\\users\\asus\\anaconda3\\lib\\site-packages (from requests[socks]->gdown==5.1.0) (1.7.1)\n",
      "Requirement already satisfied: colorama in c:\\users\\asus\\anaconda3\\lib\\site-packages (from tqdm->gdown==5.1.0) (0.4.6)\n"
     ]
    }
   ],
   "source": [
    "!pip install gdown==5.1.0"
   ]
  },
  {
   "cell_type": "code",
   "execution_count": 15,
   "id": "0e3a2c12",
   "metadata": {},
   "outputs": [
    {
     "name": "stderr",
     "output_type": "stream",
     "text": [
      "C:\\Users\\ASUS\\anaconda3\\Lib\\site-packages\\gdown\\__main__.py:132: FutureWarning: Option `--id` was deprecated in version 4.3.1 and will be removed in 5.0. You don't need to pass it anymore to use a file ID.\n",
      "  warnings.warn(\n",
      "Downloading...\n",
      "From: https://drive.google.com/uc?id=108jAePKK4R3BVYBbYJZ32JWUwxeMg20K\n",
      "To: C:\\Users\\ASUS\\OneDrive\\Bureau\\projects\\ML Note book env\\Projects\\Shakespear poem generator\\sonnets.txt\n",
      "\n",
      "  0%|          | 0.00/93.6k [00:00<?, ?B/s]\n",
      "100%|##########| 93.6k/93.6k [00:00<00:00, 777kB/s]\n",
      "100%|##########| 93.6k/93.6k [00:00<00:00, 777kB/s]\n"
     ]
    }
   ],
   "source": [
    "# sonnets.txt\n",
    "!gdown --id 108jAePKK4R3BVYBbYJZ32JWUwxeMg20K"
   ]
  },
  {
   "cell_type": "code",
   "execution_count": 16,
   "id": "f1e958ec",
   "metadata": {},
   "outputs": [
    {
     "name": "stdout",
     "output_type": "stream",
     "text": [
      "There are 2159 lines of sonnets\n",
      "\n",
      "The first 5 lines look like this:\n",
      "\n",
      "FROM fairest creatures we desire increase,\n",
      "That thereby beauty's rose might never die,\n",
      "But as the riper should by time decease,\n",
      "His tender heir might bear his memory:\n",
      "But thou, contracted to thine own bright eyes,\n"
     ]
    }
   ],
   "source": [
    "# Define path for file with sonnets\n",
    "SONNETS_FILE = './sonnets.txt'\n",
    "\n",
    "# Read the data\n",
    "with open('./sonnets.txt') as f:\n",
    "    data = f.read()\n",
    "\n",
    "# Convert to lower case and save as a list\n",
    "corpus = [line  for line in data.split(\"\\n\")]\n",
    "\n",
    "print(f\"There are {len(corpus)} lines of sonnets\\n\")\n",
    "print(f\"The first 5 lines look like this:\\n\")\n",
    "for i in range(5):\n",
    "    print(corpus[i])"
   ]
  },
  {
   "cell_type": "markdown",
   "id": "d78a36cd",
   "metadata": {},
   "source": [
    "## Tokenizing the text\n",
    "\n",
    "Now we fit the Tokenizer to the corpus and save the total number of words.\n"
   ]
  },
  {
   "cell_type": "code",
   "execution_count": 18,
   "id": "78d5483d",
   "metadata": {},
   "outputs": [
    {
     "data": {
      "text/plain": [
       "4381"
      ]
     },
     "execution_count": 18,
     "metadata": {},
     "output_type": "execute_result"
    }
   ],
   "source": [
    "tokenizer = Tokenizer(filters='')\n",
    "tokenizer.fit_on_texts(corpus)\n",
    "\n",
    "total_words = len(tokenizer.word_index) + 1\n",
    "total_words"
   ]
  },
  {
   "cell_type": "code",
   "execution_count": 19,
   "id": "fb6c40ad-8ad4-462e-8f9a-9765ca7e74c6",
   "metadata": {},
   "outputs": [],
   "source": [
    "import json\n",
    "from tensorflow.keras.preprocessing.text import tokenizer_from_json\n",
    "# Save tokenizer for further use \n",
    "tokenizer_json = tokenizer.to_json()\n",
    "with open(\"tokenizer.json\", \"w\", encoding=\"utf-8\") as f:\n",
    "    f.write(json.dumps(tokenizer_json, ensure_ascii=False))"
   ]
  },
  {
   "cell_type": "code",
   "execution_count": 20,
   "id": "ebfcfe67-8956-4168-b165-e5f5c1b4856b",
   "metadata": {},
   "outputs": [
    {
     "data": {
      "text/plain": [
       "4381"
      ]
     },
     "execution_count": 20,
     "metadata": {},
     "output_type": "execute_result"
    }
   ],
   "source": [
    "# load tokenizer \n",
    "def load_tokenizer(filepath):\n",
    "    with open(filepath, \"r\", encoding=\"utf-8\") as f:\n",
    "        tokenizer_data = json.load(f)\n",
    "    tokenizer = tokenizer_from_json(tokenizer_data)\n",
    "    return tokenizer\n",
    "\n",
    "# Test Tokenizer laod \n",
    "tokenizer = load_tokenizer(\"tokenizer.json\")\n",
    "len(tokenizer.word_index) + 1 "
   ]
  },
  {
   "cell_type": "markdown",
   "id": "ec495aac",
   "metadata": {},
   "source": [
    "When converting the text into sequences we can use the texts_to_sequences method .\n",
    "\n",
    "In the next  function we will need to process this corpus one line at a time. Given this, it is important to keep in mind that the way we are feeding the data unto this method affects the result. Check the following example to make this clearer.\n",
    "\n",
    "The first example of the corpus is a string and looks like this:\n"
   ]
  },
  {
   "cell_type": "code",
   "execution_count": 22,
   "id": "4ad68d37",
   "metadata": {},
   "outputs": [
    {
     "data": {
      "text/plain": [
       "'FROM fairest creatures we desire increase,'"
      ]
     },
     "execution_count": 22,
     "metadata": {},
     "output_type": "execute_result"
    }
   ],
   "source": [
    "corpus[0]"
   ]
  },
  {
   "cell_type": "markdown",
   "id": "f5663eeb",
   "metadata": {},
   "source": [
    "If we pass this text directly into the `texts_to_sequences` method we will get an unexpected result:"
   ]
  },
  {
   "cell_type": "code",
   "execution_count": 24,
   "id": "5e3971c7",
   "metadata": {},
   "outputs": [
    {
     "data": {
      "text/plain": [
       "[[],\n",
       " [],\n",
       " [208],\n",
       " [],\n",
       " [],\n",
       " [],\n",
       " [13],\n",
       " [6],\n",
       " [],\n",
       " [],\n",
       " [],\n",
       " [],\n",
       " [],\n",
       " [],\n",
       " [],\n",
       " [],\n",
       " [13],\n",
       " [],\n",
       " [],\n",
       " [],\n",
       " [],\n",
       " [],\n",
       " [],\n",
       " [],\n",
       " [],\n",
       " [],\n",
       " [],\n",
       " [],\n",
       " [],\n",
       " [6],\n",
       " [],\n",
       " [],\n",
       " [],\n",
       " [6],\n",
       " [],\n",
       " [],\n",
       " [],\n",
       " [],\n",
       " [13],\n",
       " [],\n",
       " [],\n",
       " []]"
      ]
     },
     "execution_count": 24,
     "metadata": {},
     "output_type": "execute_result"
    }
   ],
   "source": [
    "tokenizer.texts_to_sequences(corpus[0])"
   ]
  },
  {
   "cell_type": "markdown",
   "id": "06638aa7",
   "metadata": {},
   "source": [
    "This happened because `texts_to_sequences` expects a list and we are providing a string. However a string is still and `iterable` in Python so we will get the word index of every character in the string.\n",
    "\n",
    "Instead we need to place the example whithin a list before passing it to the method:"
   ]
  },
  {
   "cell_type": "code",
   "execution_count": 26,
   "id": "6cbe338d",
   "metadata": {},
   "outputs": [
    {
     "data": {
      "text/plain": [
       "[33, 366, 860, 142, 235, 574]"
      ]
     },
     "execution_count": 26,
     "metadata": {},
     "output_type": "execute_result"
    }
   ],
   "source": [
    "\n",
    "tokenizer.texts_to_sequences([corpus[0]])\n",
    "tokenizer.texts_to_sequences([corpus[0]])[0]"
   ]
  },
  {
   "cell_type": "markdown",
   "id": "672a053d",
   "metadata": {},
   "source": [
    "## Generating n_grams\n",
    "\n",
    "Now we complete the `n_gram_seqs` function below. This function receives the fitted tokenizer and the corpus (which is a list of strings) and should return a list containing the `n_gram` sequences for each line in the corpus:"
   ]
  },
  {
   "cell_type": "code",
   "execution_count": 28,
   "id": "92aab55e",
   "metadata": {},
   "outputs": [],
   "source": [
    "def n_gram_seqs(corpus, tokenizer):\n",
    "    input_sequences = []\n",
    "\n",
    "    for line in corpus:\n",
    "        token_list = tokenizer.texts_to_sequences([line])[0]\n",
    "        for i in range(1, len(token_list)):\n",
    "            n_gram_sequence = token_list[:i+1]\n",
    "            input_sequences.append(n_gram_sequence)\n",
    "\n",
    "    return input_sequences"
   ]
  },
  {
   "cell_type": "code",
   "execution_count": null,
   "id": "e6add399-0f37-4da4-b3f4-263e7058ba08",
   "metadata": {},
   "outputs": [],
   "source": []
  },
  {
   "cell_type": "code",
   "execution_count": 30,
   "id": "701535e7",
   "metadata": {},
   "outputs": [
    {
     "name": "stdout",
     "output_type": "stream",
     "text": [
      "n_gram sequences for first example look like this:\n",
      "\n"
     ]
    },
    {
     "data": {
      "text/plain": [
       "[[33, 366],\n",
       " [33, 366, 860],\n",
       " [33, 366, 860, 142],\n",
       " [33, 366, 860, 142, 235],\n",
       " [33, 366, 860, 142, 235, 574]]"
      ]
     },
     "execution_count": 30,
     "metadata": {},
     "output_type": "execute_result"
    }
   ],
   "source": [
    "# Test the function with one example\n",
    "first_example_sequence = n_gram_seqs([corpus[0]], tokenizer)\n",
    "\n",
    "print(\"n_gram sequences for first example look like this:\\n\")\n",
    "first_example_sequence"
   ]
  },
  {
   "cell_type": "code",
   "execution_count": 31,
   "id": "94361eba",
   "metadata": {},
   "outputs": [
    {
     "name": "stdout",
     "output_type": "stream",
     "text": [
      "n_gram sequences for next 3 examples look like this:\n",
      "\n"
     ]
    },
    {
     "data": {
      "text/plain": [
       "[[8, 861],\n",
       " [8, 861, 113],\n",
       " [8, 861, 113, 575],\n",
       " [8, 861, 113, 575, 108],\n",
       " [8, 861, 113, 575, 108, 143],\n",
       " [8, 861, 113, 575, 108, 143, 576],\n",
       " [15, 19],\n",
       " [15, 19, 2],\n",
       " [15, 19, 2, 862],\n",
       " [15, 19, 2, 862, 54],\n",
       " [15, 19, 2, 862, 54, 29],\n",
       " [15, 19, 2, 862, 54, 29, 67],\n",
       " [15, 19, 2, 862, 54, 29, 67, 863],\n",
       " [23, 261],\n",
       " [23, 261, 1464],\n",
       " [23, 261, 1464, 108],\n",
       " [23, 261, 1464, 108, 236],\n",
       " [23, 261, 1464, 108, 236, 23],\n",
       " [23, 261, 1464, 108, 236, 23, 1465]]"
      ]
     },
     "execution_count": 31,
     "metadata": {},
     "output_type": "execute_result"
    }
   ],
   "source": [
    "# Test the function with a bigger corpus\n",
    "next_3_examples_sequence = n_gram_seqs(corpus[1:4], tokenizer)\n",
    "\n",
    "print(\"n_gram sequences for next 3 examples look like this:\\n\")\n",
    "next_3_examples_sequence"
   ]
  },
  {
   "cell_type": "markdown",
   "id": "4c41afb3",
   "metadata": {},
   "source": [
    "Apply the n_gram_seqs transformation to the whole corpus and save the maximum sequence length to use it later:\n"
   ]
  },
  {
   "cell_type": "code",
   "execution_count": 33,
   "id": "da2a297b",
   "metadata": {},
   "outputs": [
    {
     "name": "stdout",
     "output_type": "stream",
     "text": [
      "n_grams of input_sequences have length: 15355\n",
      "maximum length of sequences is: 11\n"
     ]
    }
   ],
   "source": [
    "# Apply the n_gram_seqs transformation to the whole corpus\n",
    "input_sequences = n_gram_seqs(corpus, tokenizer)\n",
    "\n",
    "# Save max length\n",
    "max_sequence_len = max([len(x) for x in input_sequences])\n",
    "\n",
    "print(f\"n_grams of input_sequences have length: {len(input_sequences)}\")\n",
    "print(f\"maximum length of sequences is: {max_sequence_len}\")"
   ]
  },
  {
   "cell_type": "markdown",
   "id": "a8a94349",
   "metadata": {},
   "source": [
    "## Add padding to the sequences\n",
    "\n",
    "Now we code the `pad_seqs` function which will pad any given sequences to the desired maximum length. "
   ]
  },
  {
   "cell_type": "code",
   "execution_count": 35,
   "id": "783ecc78",
   "metadata": {},
   "outputs": [],
   "source": [
    "def pad_seqs(input_sequences, maxlen):\n",
    "    padded_sequences = np.array(pad_sequences(input_sequences, maxlen=maxlen, padding='pre'))\n",
    "\n",
    "    return padded_sequences"
   ]
  },
  {
   "cell_type": "code",
   "execution_count": 36,
   "id": "9cc16ee1",
   "metadata": {},
   "outputs": [
    {
     "data": {
      "text/plain": [
       "array([[  0,   0,   0,   0,  33, 366],\n",
       "       [  0,   0,   0,  33, 366, 860],\n",
       "       [  0,   0,  33, 366, 860, 142],\n",
       "       [  0,  33, 366, 860, 142, 235],\n",
       "       [ 33, 366, 860, 142, 235, 574]])"
      ]
     },
     "execution_count": 36,
     "metadata": {},
     "output_type": "execute_result"
    }
   ],
   "source": [
    "# Test the function with the n_grams_seq of the first example\n",
    "first_padded_seq = pad_seqs(first_example_sequence, max([len(x) for x in first_example_sequence]))\n",
    "first_padded_seq"
   ]
  },
  {
   "cell_type": "code",
   "execution_count": 37,
   "id": "ec740252",
   "metadata": {},
   "outputs": [
    {
     "data": {
      "text/plain": [
       "array([[   0,    0,    0,    0,    0,    0,    8,  861],\n",
       "       [   0,    0,    0,    0,    0,    8,  861,  113],\n",
       "       [   0,    0,    0,    0,    8,  861,  113,  575],\n",
       "       [   0,    0,    0,    8,  861,  113,  575,  108],\n",
       "       [   0,    0,    8,  861,  113,  575,  108,  143],\n",
       "       [   0,    8,  861,  113,  575,  108,  143,  576],\n",
       "       [   0,    0,    0,    0,    0,    0,   15,   19],\n",
       "       [   0,    0,    0,    0,    0,   15,   19,    2],\n",
       "       [   0,    0,    0,    0,   15,   19,    2,  862],\n",
       "       [   0,    0,    0,   15,   19,    2,  862,   54],\n",
       "       [   0,    0,   15,   19,    2,  862,   54,   29],\n",
       "       [   0,   15,   19,    2,  862,   54,   29,   67],\n",
       "       [  15,   19,    2,  862,   54,   29,   67,  863],\n",
       "       [   0,    0,    0,    0,    0,    0,   23,  261],\n",
       "       [   0,    0,    0,    0,    0,   23,  261, 1464],\n",
       "       [   0,    0,    0,    0,   23,  261, 1464,  108],\n",
       "       [   0,    0,    0,   23,  261, 1464,  108,  236],\n",
       "       [   0,    0,   23,  261, 1464,  108,  236,   23],\n",
       "       [   0,   23,  261, 1464,  108,  236,   23, 1465]])"
      ]
     },
     "execution_count": 37,
     "metadata": {},
     "output_type": "execute_result"
    }
   ],
   "source": [
    "# Test the function with the n_grams_seq of the next 3 examples\n",
    "next_3_padded_seq = pad_seqs(next_3_examples_sequence, max([len(s) for s in next_3_examples_sequence]))\n",
    "next_3_padded_seq"
   ]
  },
  {
   "cell_type": "code",
   "execution_count": 38,
   "id": "bc79001e",
   "metadata": {},
   "outputs": [
    {
     "name": "stdout",
     "output_type": "stream",
     "text": [
      "padded corpus has shape: (15355, 11)\n"
     ]
    }
   ],
   "source": [
    "# Pad the whole corpus\n",
    "input_sequences = pad_seqs(input_sequences, max_sequence_len)\n",
    "\n",
    "print(f\"padded corpus has shape: {input_sequences.shape}\")"
   ]
  },
  {
   "cell_type": "markdown",
   "id": "ffc42348",
   "metadata": {},
   "source": [
    "## Split the data into features and labels\n",
    "\n",
    "Before feeding the data into the neural network we should split it into features and labels. In this case the features will be the padded n_gram sequences with the last word removed from them and the labels will be the removed word.\n",
    "\n",
    "This function expects the padded n_gram sequences as input and should return a tuple containing the features and the one hot encoded labels.\n",
    "\n",
    "Notice that the function also receives the total of words in the corpus, this parameter will be very important when one hot enconding the labels since every word in the corpus will be a label at least once.\n"
   ]
  },
  {
   "cell_type": "code",
   "execution_count": 40,
   "id": "c19d7903",
   "metadata": {},
   "outputs": [],
   "source": [
    "def features_and_labels(input_sequences, total_words):  \n",
    "    features = input_sequences[:,:-1]\n",
    "    labels = input_sequences[:,-1]\n",
    "    one_hot_labels =  to_categorical(labels, num_classes=total_words)\n",
    "    \n",
    "\n",
    "    return features, one_hot_labels"
   ]
  },
  {
   "cell_type": "code",
   "execution_count": 41,
   "id": "6a27958a",
   "metadata": {},
   "outputs": [
    {
     "name": "stdout",
     "output_type": "stream",
     "text": [
      "labels have shape: (5, 4381)\n",
      "\n",
      "features look like this:\n",
      "\n"
     ]
    },
    {
     "data": {
      "text/plain": [
       "(array([[  0,   0,   0,   0,  33],\n",
       "        [  0,   0,   0,  33, 366],\n",
       "        [  0,   0,  33, 366, 860],\n",
       "        [  0,  33, 366, 860, 142],\n",
       "        [ 33, 366, 860, 142, 235]]),\n",
       " array([[0., 0., 0., ..., 0., 0., 0.],\n",
       "        [0., 0., 0., ..., 0., 0., 0.],\n",
       "        [0., 0., 0., ..., 0., 0., 0.],\n",
       "        [0., 0., 0., ..., 0., 0., 0.],\n",
       "        [0., 0., 0., ..., 0., 0., 0.]], dtype=float32))"
      ]
     },
     "execution_count": 41,
     "metadata": {},
     "output_type": "execute_result"
    }
   ],
   "source": [
    "# Test the function with the padded n_grams_seq of the first example\n",
    "first_features, first_labels = features_and_labels(first_padded_seq, total_words)\n",
    "\n",
    "print(f\"labels have shape: {first_labels.shape}\")\n",
    "print(\"\\nfeatures look like this:\\n\")\n",
    "first_features, first_labels"
   ]
  },
  {
   "cell_type": "code",
   "execution_count": 42,
   "id": "4ad094b5",
   "metadata": {},
   "outputs": [
    {
     "name": "stdout",
     "output_type": "stream",
     "text": [
      "features have shape: (15355, 10)\n",
      "labels have shape: (15355, 4381)\n"
     ]
    }
   ],
   "source": [
    "# Split the whole corpus\n",
    "features, labels = features_and_labels(input_sequences, total_words)\n",
    "\n",
    "print(f\"features have shape: {features.shape}\")\n",
    "print(f\"labels have shape: {labels.shape}\")"
   ]
  },
  {
   "cell_type": "markdown",
   "id": "4876292c",
   "metadata": {},
   "source": [
    "## Create the model\n",
    "\n",
    "Now we should define a model architecture capable of achieving an accuracy of at least 80%.\n",
    "\n",
    "model architecture\n",
    "\n",
    "- An appropriate `output_dim` for the first layer (Embedding) is 100.\n",
    "- A Bidirectional LSTM is helpful for this particular problem.\n",
    "- The last layer should have the same number of units as the total number of words in the corpus and a softmax activation function.\n",
    "- This problem can be solved with only two layers (excluding the Embedding) ."
   ]
  },
  {
   "cell_type": "code",
   "execution_count": 44,
   "id": "d15e5294",
   "metadata": {},
   "outputs": [],
   "source": [
    "def create_model(total_words, max_sequence_len):\n",
    "    model = Sequential()\n",
    "    model.add(Embedding(total_words, 100, input_length=max_sequence_len - 1))\n",
    "    model.add(LSTM(80))\n",
    "    model.add(Dense(total_words, activation='softmax'))\n",
    "\n",
    "    # Compile the model\n",
    "    model.compile(loss='categorical_crossentropy',\n",
    "                  optimizer='adam',\n",
    "                  metrics=['accuracy'])\n",
    "\n",
    "\n",
    "    return model\n",
    "\n",
    "\n",
    "\n",
    "\n"
   ]
  },
  {
   "cell_type": "code",
   "execution_count": 45,
   "id": "39031b8e",
   "metadata": {
    "scrolled": true
   },
   "outputs": [
    {
     "name": "stdout",
     "output_type": "stream",
     "text": [
      "Model: \"sequential\"\n",
      "_________________________________________________________________\n",
      " Layer (type)                Output Shape              Param #   \n",
      "=================================================================\n",
      " embedding (Embedding)       (None, 10, 100)           438100    \n",
      "                                                                 \n",
      " lstm (LSTM)                 (None, 80)                57920     \n",
      "                                                                 \n",
      " dense (Dense)               (None, 4381)              354861    \n",
      "                                                                 \n",
      "=================================================================\n",
      "Total params: 850,881\n",
      "Trainable params: 850,881\n",
      "Non-trainable params: 0\n",
      "_________________________________________________________________\n",
      "Epoch 1/60\n",
      "480/480 [==============================] - 14s 8ms/step - loss: 7.2893 - accuracy: 0.0227\n",
      "Epoch 2/60\n",
      "480/480 [==============================] - 4s 8ms/step - loss: 6.8060 - accuracy: 0.0289\n",
      "Epoch 3/60\n",
      "480/480 [==============================] - 4s 8ms/step - loss: 6.6655 - accuracy: 0.0328\n",
      "Epoch 4/60\n",
      "480/480 [==============================] - 4s 8ms/step - loss: 6.5086 - accuracy: 0.0385\n",
      "Epoch 5/60\n",
      "480/480 [==============================] - 4s 8ms/step - loss: 6.3296 - accuracy: 0.0422\n",
      "Epoch 6/60\n",
      "480/480 [==============================] - 4s 8ms/step - loss: 6.1481 - accuracy: 0.0470\n",
      "Epoch 7/60\n",
      "480/480 [==============================] - 4s 8ms/step - loss: 5.9680 - accuracy: 0.0496\n",
      "Epoch 8/60\n",
      "480/480 [==============================] - 4s 9ms/step - loss: 5.7870 - accuracy: 0.0572\n",
      "Epoch 9/60\n",
      "480/480 [==============================] - 4s 8ms/step - loss: 5.6012 - accuracy: 0.0664\n",
      "Epoch 10/60\n",
      "480/480 [==============================] - 4s 8ms/step - loss: 5.4148 - accuracy: 0.0751\n",
      "Epoch 11/60\n",
      "480/480 [==============================] - 4s 8ms/step - loss: 5.2287 - accuracy: 0.0882\n",
      "Epoch 12/60\n",
      "480/480 [==============================] - 4s 8ms/step - loss: 5.0401 - accuracy: 0.0989\n",
      "Epoch 13/60\n",
      "480/480 [==============================] - 4s 7ms/step - loss: 4.8519 - accuracy: 0.1213\n",
      "Epoch 14/60\n",
      "480/480 [==============================] - 4s 8ms/step - loss: 4.6684 - accuracy: 0.1406\n",
      "Epoch 15/60\n",
      "480/480 [==============================] - 3s 7ms/step - loss: 4.4837 - accuracy: 0.1687\n",
      "Epoch 16/60\n",
      "480/480 [==============================] - 4s 8ms/step - loss: 4.3018 - accuracy: 0.1949\n",
      "Epoch 17/60\n",
      "480/480 [==============================] - 4s 8ms/step - loss: 4.1221 - accuracy: 0.2300\n",
      "Epoch 18/60\n",
      "480/480 [==============================] - 4s 8ms/step - loss: 3.9431 - accuracy: 0.2619\n",
      "Epoch 19/60\n",
      "480/480 [==============================] - 4s 8ms/step - loss: 3.7692 - accuracy: 0.2927\n",
      "Epoch 20/60\n",
      "480/480 [==============================] - 4s 8ms/step - loss: 3.5961 - accuracy: 0.3273\n",
      "Epoch 21/60\n",
      "480/480 [==============================] - 5s 10ms/step - loss: 3.4302 - accuracy: 0.3576\n",
      "Epoch 22/60\n",
      "480/480 [==============================] - 5s 10ms/step - loss: 3.2700 - accuracy: 0.3849\n",
      "Epoch 23/60\n",
      "480/480 [==============================] - 5s 11ms/step - loss: 3.1149 - accuracy: 0.4149\n",
      "Epoch 24/60\n",
      "480/480 [==============================] - 5s 10ms/step - loss: 2.9693 - accuracy: 0.4411\n",
      "Epoch 25/60\n",
      "480/480 [==============================] - 5s 10ms/step - loss: 2.8311 - accuracy: 0.4664\n",
      "Epoch 26/60\n",
      "480/480 [==============================] - 6s 13ms/step - loss: 2.7002 - accuracy: 0.4886\n",
      "Epoch 27/60\n",
      "480/480 [==============================] - 6s 13ms/step - loss: 2.5788 - accuracy: 0.5086\n",
      "Epoch 28/60\n",
      "480/480 [==============================] - 4s 9ms/step - loss: 2.4660 - accuracy: 0.5317\n",
      "Epoch 29/60\n",
      "480/480 [==============================] - 6s 12ms/step - loss: 2.3571 - accuracy: 0.5506\n",
      "Epoch 30/60\n",
      "480/480 [==============================] - 5s 11ms/step - loss: 2.2561 - accuracy: 0.5700\n",
      "Epoch 31/60\n",
      "480/480 [==============================] - 4s 8ms/step - loss: 2.1630 - accuracy: 0.5861\n",
      "Epoch 32/60\n",
      "480/480 [==============================] - 4s 8ms/step - loss: 2.0748 - accuracy: 0.6017\n",
      "Epoch 33/60\n",
      "480/480 [==============================] - 5s 10ms/step - loss: 1.9928 - accuracy: 0.6179\n",
      "Epoch 34/60\n",
      "480/480 [==============================] - 4s 8ms/step - loss: 1.9129 - accuracy: 0.6320\n",
      "Epoch 35/60\n",
      "480/480 [==============================] - 4s 9ms/step - loss: 1.8403 - accuracy: 0.6434\n",
      "Epoch 36/60\n",
      "480/480 [==============================] - 4s 8ms/step - loss: 1.7704 - accuracy: 0.6556\n",
      "Epoch 37/60\n",
      "480/480 [==============================] - 4s 9ms/step - loss: 1.7050 - accuracy: 0.6684\n",
      "Epoch 38/60\n",
      "480/480 [==============================] - 4s 8ms/step - loss: 1.6415 - accuracy: 0.6776\n",
      "Epoch 39/60\n",
      "480/480 [==============================] - 5s 9ms/step - loss: 1.5821 - accuracy: 0.6890\n",
      "Epoch 40/60\n",
      "480/480 [==============================] - 4s 8ms/step - loss: 1.5280 - accuracy: 0.6982\n",
      "Epoch 41/60\n",
      "480/480 [==============================] - 4s 8ms/step - loss: 1.4749 - accuracy: 0.7072\n",
      "Epoch 42/60\n",
      "480/480 [==============================] - 4s 7ms/step - loss: 1.4250 - accuracy: 0.7170\n",
      "Epoch 43/60\n",
      "480/480 [==============================] - 4s 8ms/step - loss: 1.3769 - accuracy: 0.7249\n",
      "Epoch 44/60\n",
      "480/480 [==============================] - 4s 8ms/step - loss: 1.3339 - accuracy: 0.7314\n",
      "Epoch 45/60\n",
      "480/480 [==============================] - 4s 8ms/step - loss: 1.2899 - accuracy: 0.7389\n",
      "Epoch 46/60\n",
      "480/480 [==============================] - 4s 8ms/step - loss: 1.2497 - accuracy: 0.7476\n",
      "Epoch 47/60\n",
      "480/480 [==============================] - 4s 8ms/step - loss: 1.2116 - accuracy: 0.7525\n",
      "Epoch 48/60\n",
      "480/480 [==============================] - 4s 8ms/step - loss: 1.1769 - accuracy: 0.7613\n",
      "Epoch 49/60\n",
      "480/480 [==============================] - 4s 8ms/step - loss: 1.1429 - accuracy: 0.7654\n",
      "Epoch 50/60\n",
      "480/480 [==============================] - 4s 8ms/step - loss: 1.1081 - accuracy: 0.7711\n",
      "Epoch 51/60\n",
      "480/480 [==============================] - 4s 8ms/step - loss: 1.0789 - accuracy: 0.7753\n",
      "Epoch 52/60\n",
      "480/480 [==============================] - 4s 8ms/step - loss: 1.0487 - accuracy: 0.7825\n",
      "Epoch 53/60\n",
      "480/480 [==============================] - 4s 8ms/step - loss: 1.0220 - accuracy: 0.7859\n",
      "Epoch 54/60\n",
      "480/480 [==============================] - 4s 8ms/step - loss: 0.9937 - accuracy: 0.7889\n",
      "Epoch 55/60\n",
      "480/480 [==============================] - 4s 8ms/step - loss: 0.9684 - accuracy: 0.7940\n",
      "Epoch 56/60\n",
      "480/480 [==============================] - 4s 8ms/step - loss: 0.9443 - accuracy: 0.7982\n",
      "Epoch 57/60\n",
      "480/480 [==============================] - 4s 8ms/step - loss: 0.9215 - accuracy: 0.8014\n",
      "Epoch 58/60\n",
      "480/480 [==============================] - 4s 8ms/step - loss: 0.8999 - accuracy: 0.8059\n",
      "Epoch 59/60\n",
      "480/480 [==============================] - 4s 8ms/step - loss: 0.8793 - accuracy: 0.8098\n",
      "Epoch 60/60\n",
      "480/480 [==============================] - 4s 8ms/step - loss: 0.8580 - accuracy: 0.8134\n"
     ]
    }
   ],
   "source": [
    "# Get the untrained model\n",
    "model = create_model(total_words , max_sequence_len)\n",
    "model.summary()\n",
    "# Train the model\n",
    "history = model.fit(features, labels, epochs=60, verbose=1)"
   ]
  },
  {
   "cell_type": "code",
   "execution_count": 47,
   "id": "4d7d9755",
   "metadata": {},
   "outputs": [
    {
     "data": {
      "image/png": "[encoded data removed]",
      "text/plain": [
       "<Figure size 640x480 with 1 Axes>"
      ]
     },
     "metadata": {},
     "output_type": "display_data"
    },
    {
     "data": {
      "image/png": "[encoded data removed]",
      "text/plain": [
       "<Figure size 640x480 with 1 Axes>"
      ]
     },
     "metadata": {},
     "output_type": "display_data"
    }
   ],
   "source": [
    "# Take a look at the training curves of your model\n",
    "\n",
    "acc = history.history['accuracy']\n",
    "loss = history.history['loss']\n",
    "\n",
    "epochs = range(len(acc))\n",
    "\n",
    "plt.plot(epochs, acc, 'b', label='Training accuracy')\n",
    "plt.title('Training accuracy')\n",
    "\n",
    "plt.figure()\n",
    "\n",
    "plt.plot(epochs, loss, 'b', label='Training Loss')\n",
    "plt.title('Training loss')\n",
    "plt.legend()\n",
    "\n",
    "plt.show()"
   ]
  },
  {
   "cell_type": "code",
   "execution_count": 48,
   "id": "c2be4aa6",
   "metadata": {},
   "outputs": [],
   "source": [
    "model.save(\"model/shakespear_generator.h5\")"
   ]
  },
  {
   "cell_type": "code",
   "execution_count": 25,
   "id": "7457b479",
   "metadata": {},
   "outputs": [],
   "source": [
    "import numpy as np\n",
    "import json\n",
    "import re\n",
    "from tensorflow.keras.preprocessing.text import tokenizer_from_json\n",
    "from tensorflow.keras.preprocessing.sequence import pad_sequences\n",
    "\n",
    "# load tokenizer \n",
    "def load_tokenizer(filepath):\n",
    "    with open(filepath, \"r\", encoding=\"utf-8\") as f:\n",
    "        tokenizer_data = json.load(f)\n",
    "    tokenizer = tokenizer_from_json(tokenizer_data)\n",
    "    return tokenizer\n",
    "\n",
    "def sample(predictions, temperature=1.0):\n",
    "    predictions = np.asarray(predictions).astype('float64')\n",
    "    predictions = np.log(predictions) / temperature\n",
    "    exp_preds = np.exp(predictions)\n",
    "    predictions = exp_preds / np.sum(exp_preds)\n",
    "    probas = np.random.multinomial(1, predictions, 1)\n",
    "    return np.argmax(probas)\n",
    "\n",
    "def generate_poem(seed_text, model, max_sequence_len=11 ,next_words=100, temperature=0.5):\n",
    "    tokenizer = load_tokenizer(\"tokenizer.json\")\n",
    "    for _ in range(next_words):\n",
    "        token_list = tokenizer.texts_to_sequences([seed_text])[0]\n",
    "        token_list = pad_sequences([token_list], maxlen=max_sequence_len-1, padding='pre')\n",
    "        predicted = model.predict(token_list, verbose=0)[0]\n",
    "        predicted_word_index = sample(predicted, temperature=temperature)\n",
    "        output_word = tokenizer.index_word.get(predicted_word_index)\n",
    "        \n",
    "        seed_text += \" \" + output_word\n",
    "    return seed_text.strip()\n",
    "\n",
    "\n",
    "def refine_shape(text):\n",
    "    \n",
    "    lines = re.split(r'([;:,.\\?!])', text)\n",
    "    buffer = []\n",
    "    \n",
    "    for i in range(0, len(lines), 2):  \n",
    "        segment = lines[i].strip()\n",
    "        punctuation = lines[i + 1] if i + 1 < len(lines) else ''\n",
    "        \n",
    "       \n",
    "        if segment and len(segment) < 5 and buffer:\n",
    "            buffer[-1] += ' ' + segment + punctuation\n",
    "        else:\n",
    "            buffer.append(segment + punctuation)\n",
    "    \n",
    "    \n",
    "    return '\\n'.join(buffer)\n",
    "    \n",
    "\n"
   ]
  },
  {
   "cell_type": "code",
   "execution_count": 27,
   "id": "2b27e4f6-af2d-414e-9cc2-d88b3dd43562",
   "metadata": {},
   "outputs": [
    {
     "name": "stdout",
     "output_type": "stream",
     "text": [
      "Rough winds do shake the darling buds of May weeds:\n",
      "woe extreme,\n",
      "themselves.\n",
      "woman place,\n",
      "forfeit quest heart,\n",
      "that is can winter grace so. so.\n",
      "tender'd me.\n",
      "still,\n",
      "despite fame thee woe;\n",
      "eye's woes place,\n",
      "back whilst long.\n",
      "pine afloat, now,\n",
      "light'st by cover,\n",
      "farther tells of subject subject 'twixt subject fortune 'twixt lips, o,\n",
      "error infection way made no defect,\n",
      "virtue tender me!\n",
      "flowers o'ersnow'd charge?\n",
      "subject subject 'twixt blessed-fair guilty whence man summer home faculty added rising rising watch lame lie check me nor thou art old,\n",
      "is this,\n",
      "with me. new;\n",
      "have alter'd green.\n",
      "again.\n",
      "green.\n",
      "blamed, hand,\n",
      "hearts duty,\n",
      "addition quest heart,\n",
      "quick true,\n",
      "' despite\n"
     ]
    }
   ],
   "source": [
    "from tensorflow.keras.models import load_model\n",
    "loaded_model = load_model(\"model/shakespear_generator.h5\")\n",
    "# Example one :\n",
    "print(refine_shape(generate_poem(\"Rough winds do shake the darling buds of May\", model=loaded_model)))\n"
   ]
  },
  {
   "cell_type": "code",
   "execution_count": 29,
   "id": "91852b34-dabf-4575-b568-c25e1329df2f",
   "metadata": {},
   "outputs": [
    {
     "name": "stdout",
     "output_type": "stream",
     "text": [
      "Shall I compare thee to a summer's day lived mourning wonder fears,\n",
      "rights 'twixt charge?\n",
      "'twixt lips,\n",
      "win deep deep thou hence adulterate a part:\n",
      "speak of me:\n",
      "blesses here shadow muse;\n",
      "mourning wonder wonder wonder bitterness function 'twixt offences testy strength's thievish first;\n",
      "master-mistress 'twixt lack heart,\n",
      "repose bad of more world had true, true,\n",
      "not thee.\n",
      "not still,\n",
      "the kingdom die. thee. time,\n",
      "tells necessary world,\n",
      "break world lies, die:\n",
      "staineth. old,\n",
      "here holds title drawn of manners waste fame in my life is in prove still, come,\n",
      "find back spur, aid,\n",
      "green.\n",
      "room urge repair,\n",
      "read hence.\n",
      "find back men, this;\n",
      "pursuit 'twixt a keen\n"
     ]
    }
   ],
   "source": [
    "\n",
    "print(refine_shape(generate_poem(\"Shall I compare thee to a summer's day\", model=loaded_model)))"
   ]
  },
  {
   "cell_type": "code",
   "execution_count": null,
   "id": "296f0451",
   "metadata": {},
   "outputs": [],
   "source": []
  }
 ],
 "metadata": {
  "kernelspec": {
   "display_name": "Python (tf-env)",
   "language": "python",
   "name": "tf-env"
  },
  "language_info": {
   "codemirror_mode": {
    "name": "ipython",
    "version": 3
   },
   "file_extension": ".py",
   "mimetype": "text/x-python",
   "name": "python",
   "nbconvert_exporter": "python",
   "pygments_lexer": "ipython3",
   "version": "3.10.16"
  }
 },
 "nbformat": 4,
 "nbformat_minor": 5
}
