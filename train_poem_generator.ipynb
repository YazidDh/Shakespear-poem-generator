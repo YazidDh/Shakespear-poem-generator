{
 "cells": [
  {
   "cell_type": "markdown",
   "id": "5bbbdbe5",
   "metadata": {},
   "source": [
    "#  Shakespear Poem generation with Predicting the next word"
   ]
  },
  {
   "cell_type": "code",
   "execution_count": 3,
   "id": "43697127",
   "metadata": {},
   "outputs": [],
   "source": [
    "import numpy as np\n",
    "import matplotlib.pyplot as plt\n",
    "from tensorflow.keras.models import Sequential\n",
    "from tensorflow.keras.utils import to_categorical\n",
    "from tensorflow.keras.preprocessing.text import Tokenizer\n",
    "from tensorflow.keras.preprocessing.sequence import pad_sequences\n",
    "from tensorflow.keras.layers import Embedding, LSTM, Dense, Bidirectional"
   ]
  },
  {
   "cell_type": "markdown",
   "id": "bde41b5b",
   "metadata": {},
   "source": [
    "For this project we will be using the [Shakespeare Sonnets Dataset](https://www.opensourceshakespeare.org/views/sonnets/sonnet_view.php?range=viewrange&sonnetrange1=1&sonnetrange2=154), which contains more than 2000 lines of text extracted from Shakespeare's sonnets."
   ]
  },
  {
   "cell_type": "code",
   "execution_count": 4,
   "id": "bee95e62",
   "metadata": {},
   "outputs": [
    {
     "name": "stdout",
     "output_type": "stream",
     "text": [
      "Requirement already satisfied: gdown==5.1.0 in c:\\users\\asus\\anaconda3\\lib\\site-packages (5.1.0)\n",
      "Requirement already satisfied: beautifulsoup4 in c:\\users\\asus\\anaconda3\\lib\\site-packages (from gdown==5.1.0) (4.10.0)\n",
      "Requirement already satisfied: filelock in c:\\users\\asus\\anaconda3\\lib\\site-packages (from gdown==5.1.0) (3.12.0)\n",
      "Requirement already satisfied: requests[socks] in c:\\users\\asus\\anaconda3\\lib\\site-packages (from gdown==5.1.0) (2.26.0)\n",
      "Requirement already satisfied: tqdm in c:\\users\\asus\\anaconda3\\lib\\site-packages (from gdown==5.1.0) (4.62.3)\n",
      "Requirement already satisfied: soupsieve>1.2 in c:\\users\\asus\\anaconda3\\lib\\site-packages (from beautifulsoup4->gdown==5.1.0) (2.2.1)\n",
      "Requirement already satisfied: urllib3<1.27,>=1.21.1 in c:\\users\\asus\\anaconda3\\lib\\site-packages (from requests[socks]->gdown==5.1.0) (1.26.7)\n",
      "Requirement already satisfied: certifi>=2017.4.17 in c:\\users\\asus\\anaconda3\\lib\\site-packages (from requests[socks]->gdown==5.1.0) (2022.9.24)\n",
      "Requirement already satisfied: charset-normalizer~=2.0.0 in c:\\users\\asus\\anaconda3\\lib\\site-packages (from requests[socks]->gdown==5.1.0) (2.0.4)\n",
      "Requirement already satisfied: idna<4,>=2.5 in c:\\users\\asus\\anaconda3\\lib\\site-packages (from requests[socks]->gdown==5.1.0) (3.2)\n",
      "Requirement already satisfied: PySocks!=1.5.7,>=1.5.6 in c:\\users\\asus\\anaconda3\\lib\\site-packages (from requests[socks]->gdown==5.1.0) (1.7.1)\n",
      "Requirement already satisfied: colorama in c:\\users\\asus\\anaconda3\\lib\\site-packages (from tqdm->gdown==5.1.0) (0.4.6)\n"
     ]
    },
    {
     "name": "stderr",
     "output_type": "stream",
     "text": [
      "\n",
      "[notice] A new release of pip is available: 23.1.2 -> 24.1.1\n",
      "[notice] To update, run: python.exe -m pip install --upgrade pip\n"
     ]
    }
   ],
   "source": [
    "!pip install gdown==5.1.0"
   ]
  },
  {
   "cell_type": "code",
   "execution_count": 5,
   "id": "0e3a2c12",
   "metadata": {},
   "outputs": [
    {
     "name": "stderr",
     "output_type": "stream",
     "text": [
      "C:\\Users\\ASUS\\anaconda3\\lib\\site-packages\\gdown\\__main__.py:132: FutureWarning: Option `--id` was deprecated in version 4.3.1 and will be removed in 5.0. You don't need to pass it anymore to use a file ID.\n",
      "  warnings.warn(\n",
      "Downloading...\n",
      "From: https://drive.google.com/uc?id=108jAePKK4R3BVYBbYJZ32JWUwxeMg20K\n",
      "To: C:\\Users\\ASUS\\OneDrive\\Bureau\\ML Note book env\\Shakespear poem generator\\sonnets.txt\n",
      "\n",
      "  0%|          | 0.00/93.6k [00:00<?, ?B/s]\n",
      "100%|##########| 93.6k/93.6k [00:00<00:00, 124kB/s]\n",
      "100%|##########| 93.6k/93.6k [00:00<00:00, 124kB/s]\n"
     ]
    }
   ],
   "source": [
    "# sonnets.txt\n",
    "!gdown --id 108jAePKK4R3BVYBbYJZ32JWUwxeMg20K"
   ]
  },
  {
   "cell_type": "code",
   "execution_count": 6,
   "id": "f1e958ec",
   "metadata": {},
   "outputs": [
    {
     "name": "stdout",
     "output_type": "stream",
     "text": [
      "There are 2159 lines of sonnets\n",
      "\n",
      "The first 5 lines look like this:\n",
      "\n",
      "from fairest creatures we desire increase,\n",
      "that thereby beauty's rose might never die,\n",
      "but as the riper should by time decease,\n",
      "his tender heir might bear his memory:\n",
      "but thou, contracted to thine own bright eyes,\n"
     ]
    }
   ],
   "source": [
    "# Define path for file with sonnets\n",
    "SONNETS_FILE = './sonnets.txt'\n",
    "\n",
    "# Read the data\n",
    "with open('./sonnets.txt') as f:\n",
    "    data = f.read()\n",
    "\n",
    "# Convert to lower case and save as a list\n",
    "corpus = data.lower().split(\"\\n\")\n",
    "\n",
    "print(f\"There are {len(corpus)} lines of sonnets\\n\")\n",
    "print(f\"The first 5 lines look like this:\\n\")\n",
    "for i in range(5):\n",
    "    print(corpus[i])"
   ]
  },
  {
   "cell_type": "markdown",
   "id": "d78a36cd",
   "metadata": {},
   "source": [
    "## Tokenizing the text\n",
    "\n",
    "Now we fit the Tokenizer to the corpus and save the total number of words.\n"
   ]
  },
  {
   "cell_type": "code",
   "execution_count": 7,
   "id": "78d5483d",
   "metadata": {},
   "outputs": [],
   "source": [
    "tokenizer = Tokenizer()\n",
    "tokenizer.fit_on_texts(corpus)\n",
    "total_words = len(tokenizer.word_index) + 1"
   ]
  },
  {
   "cell_type": "markdown",
   "id": "ec495aac",
   "metadata": {},
   "source": [
    "When converting the text into sequences we can use the texts_to_sequences method .\n",
    "\n",
    "In the next  function we will need to process this corpus one line at a time. Given this, it is important to keep in mind that the way we are feeding the data unto this method affects the result. Check the following example to make this clearer.\n",
    "\n",
    "The first example of the corpus is a string and looks like this:\n"
   ]
  },
  {
   "cell_type": "code",
   "execution_count": 8,
   "id": "4ad68d37",
   "metadata": {},
   "outputs": [
    {
     "data": {
      "text/plain": [
       "'from fairest creatures we desire increase,'"
      ]
     },
     "execution_count": 8,
     "metadata": {},
     "output_type": "execute_result"
    }
   ],
   "source": [
    "corpus[0]"
   ]
  },
  {
   "cell_type": "markdown",
   "id": "f5663eeb",
   "metadata": {},
   "source": [
    "If we pass this text directly into the `texts_to_sequences` method we will get an unexpected result:"
   ]
  },
  {
   "cell_type": "code",
   "execution_count": 9,
   "id": "5e3971c7",
   "metadata": {},
   "outputs": [
    {
     "data": {
      "text/plain": [
       "[[],\n",
       " [],\n",
       " [58],\n",
       " [],\n",
       " [],\n",
       " [],\n",
       " [17],\n",
       " [6],\n",
       " [],\n",
       " [],\n",
       " [],\n",
       " [],\n",
       " [],\n",
       " [],\n",
       " [],\n",
       " [],\n",
       " [17],\n",
       " [],\n",
       " [],\n",
       " [],\n",
       " [],\n",
       " [],\n",
       " [],\n",
       " [],\n",
       " [],\n",
       " [],\n",
       " [],\n",
       " [],\n",
       " [],\n",
       " [6],\n",
       " [],\n",
       " [],\n",
       " [],\n",
       " [6],\n",
       " [],\n",
       " [],\n",
       " [],\n",
       " [],\n",
       " [17],\n",
       " [],\n",
       " [],\n",
       " []]"
      ]
     },
     "execution_count": 9,
     "metadata": {},
     "output_type": "execute_result"
    }
   ],
   "source": [
    "tokenizer.texts_to_sequences(corpus[0])"
   ]
  },
  {
   "cell_type": "markdown",
   "id": "06638aa7",
   "metadata": {},
   "source": [
    "This happened because `texts_to_sequences` expects a list and we are providing a string. However a string is still and `iterable` in Python so we will get the word index of every character in the string.\n",
    "\n",
    "Instead we need to place the example whithin a list before passing it to the method:"
   ]
  },
  {
   "cell_type": "code",
   "execution_count": 10,
   "id": "6cbe338d",
   "metadata": {},
   "outputs": [
    {
     "data": {
      "text/plain": [
       "[34, 417, 877, 166, 213, 517]"
      ]
     },
     "execution_count": 10,
     "metadata": {},
     "output_type": "execute_result"
    }
   ],
   "source": [
    "tokenizer.texts_to_sequences([corpus[0]])\n",
    "tokenizer.texts_to_sequences([corpus[0]])[0]"
   ]
  },
  {
   "cell_type": "markdown",
   "id": "672a053d",
   "metadata": {},
   "source": [
    "## Generating n_grams\n",
    "\n",
    "Now we complete the `n_gram_seqs` function below. This function receives the fitted tokenizer and the corpus (which is a list of strings) and should return a list containing the `n_gram` sequences for each line in the corpus:"
   ]
  },
  {
   "cell_type": "code",
   "execution_count": 11,
   "id": "92aab55e",
   "metadata": {},
   "outputs": [],
   "source": [
    "def n_gram_seqs(corpus, tokenizer):\n",
    "    input_sequences = []\n",
    "\n",
    "    for line in corpus:\n",
    "        token_list = tokenizer.texts_to_sequences([line])[0]\n",
    "        for i in range(1, len(token_list)):\n",
    "            n_gram_sequence = token_list[:i+1]\n",
    "            input_sequences.append(n_gram_sequence)\n",
    "\n",
    "    return input_sequences"
   ]
  },
  {
   "cell_type": "code",
   "execution_count": 12,
   "id": "701535e7",
   "metadata": {},
   "outputs": [
    {
     "name": "stdout",
     "output_type": "stream",
     "text": [
      "n_gram sequences for first example look like this:\n",
      "\n"
     ]
    },
    {
     "data": {
      "text/plain": [
       "[[34, 417],\n",
       " [34, 417, 877],\n",
       " [34, 417, 877, 166],\n",
       " [34, 417, 877, 166, 213],\n",
       " [34, 417, 877, 166, 213, 517]]"
      ]
     },
     "execution_count": 12,
     "metadata": {},
     "output_type": "execute_result"
    }
   ],
   "source": [
    "# Test the function with one example\n",
    "first_example_sequence = n_gram_seqs([corpus[0]], tokenizer)\n",
    "\n",
    "print(\"n_gram sequences for first example look like this:\\n\")\n",
    "first_example_sequence"
   ]
  },
  {
   "cell_type": "code",
   "execution_count": 13,
   "id": "94361eba",
   "metadata": {},
   "outputs": [
    {
     "name": "stdout",
     "output_type": "stream",
     "text": [
      "n_gram sequences for next 3 examples look like this:\n",
      "\n"
     ]
    },
    {
     "data": {
      "text/plain": [
       "[[8, 878],\n",
       " [8, 878, 134],\n",
       " [8, 878, 134, 351],\n",
       " [8, 878, 134, 351, 102],\n",
       " [8, 878, 134, 351, 102, 156],\n",
       " [8, 878, 134, 351, 102, 156, 199],\n",
       " [16, 22],\n",
       " [16, 22, 2],\n",
       " [16, 22, 2, 879],\n",
       " [16, 22, 2, 879, 61],\n",
       " [16, 22, 2, 879, 61, 30],\n",
       " [16, 22, 2, 879, 61, 30, 48],\n",
       " [16, 22, 2, 879, 61, 30, 48, 634],\n",
       " [25, 311],\n",
       " [25, 311, 635],\n",
       " [25, 311, 635, 102],\n",
       " [25, 311, 635, 102, 200],\n",
       " [25, 311, 635, 102, 200, 25],\n",
       " [25, 311, 635, 102, 200, 25, 278]]"
      ]
     },
     "execution_count": 13,
     "metadata": {},
     "output_type": "execute_result"
    }
   ],
   "source": [
    "# Test the function with a bigger corpus\n",
    "next_3_examples_sequence = n_gram_seqs(corpus[1:4], tokenizer)\n",
    "\n",
    "print(\"n_gram sequences for next 3 examples look like this:\\n\")\n",
    "next_3_examples_sequence"
   ]
  },
  {
   "cell_type": "markdown",
   "id": "4c41afb3",
   "metadata": {},
   "source": [
    "Apply the n_gram_seqs transformation to the whole corpus and save the maximum sequence length to use it later:\n"
   ]
  },
  {
   "cell_type": "code",
   "execution_count": 14,
   "id": "da2a297b",
   "metadata": {},
   "outputs": [
    {
     "name": "stdout",
     "output_type": "stream",
     "text": [
      "n_grams of input_sequences have length: 15462\n",
      "maximum length of sequences is: 11\n"
     ]
    }
   ],
   "source": [
    "# Apply the n_gram_seqs transformation to the whole corpus\n",
    "input_sequences = n_gram_seqs(corpus, tokenizer)\n",
    "\n",
    "# Save max length\n",
    "max_sequence_len = max([len(x) for x in input_sequences])\n",
    "\n",
    "print(f\"n_grams of input_sequences have length: {len(input_sequences)}\")\n",
    "print(f\"maximum length of sequences is: {max_sequence_len}\")"
   ]
  },
  {
   "cell_type": "markdown",
   "id": "a8a94349",
   "metadata": {},
   "source": [
    "## Add padding to the sequences\n",
    "\n",
    "Now we code the `pad_seqs` function which will pad any given sequences to the desired maximum length. "
   ]
  },
  {
   "cell_type": "code",
   "execution_count": 15,
   "id": "783ecc78",
   "metadata": {},
   "outputs": [],
   "source": [
    "def pad_seqs(input_sequences, maxlen):\n",
    "    padded_sequences = np.array(pad_sequences(input_sequences, maxlen=maxlen, padding='pre'))\n",
    "\n",
    "    return padded_sequences"
   ]
  },
  {
   "cell_type": "code",
   "execution_count": 16,
   "id": "9cc16ee1",
   "metadata": {},
   "outputs": [
    {
     "data": {
      "text/plain": [
       "array([[  0,   0,   0,   0,  34, 417],\n",
       "       [  0,   0,   0,  34, 417, 877],\n",
       "       [  0,   0,  34, 417, 877, 166],\n",
       "       [  0,  34, 417, 877, 166, 213],\n",
       "       [ 34, 417, 877, 166, 213, 517]])"
      ]
     },
     "execution_count": 16,
     "metadata": {},
     "output_type": "execute_result"
    }
   ],
   "source": [
    "# Test the function with the n_grams_seq of the first example\n",
    "first_padded_seq = pad_seqs(first_example_sequence, max([len(x) for x in first_example_sequence]))\n",
    "first_padded_seq"
   ]
  },
  {
   "cell_type": "code",
   "execution_count": 17,
   "id": "ec740252",
   "metadata": {},
   "outputs": [
    {
     "data": {
      "text/plain": [
       "array([[  0,   0,   0,   0,   0,   0,   8, 878],\n",
       "       [  0,   0,   0,   0,   0,   8, 878, 134],\n",
       "       [  0,   0,   0,   0,   8, 878, 134, 351],\n",
       "       [  0,   0,   0,   8, 878, 134, 351, 102],\n",
       "       [  0,   0,   8, 878, 134, 351, 102, 156],\n",
       "       [  0,   8, 878, 134, 351, 102, 156, 199],\n",
       "       [  0,   0,   0,   0,   0,   0,  16,  22],\n",
       "       [  0,   0,   0,   0,   0,  16,  22,   2],\n",
       "       [  0,   0,   0,   0,  16,  22,   2, 879],\n",
       "       [  0,   0,   0,  16,  22,   2, 879,  61],\n",
       "       [  0,   0,  16,  22,   2, 879,  61,  30],\n",
       "       [  0,  16,  22,   2, 879,  61,  30,  48],\n",
       "       [ 16,  22,   2, 879,  61,  30,  48, 634],\n",
       "       [  0,   0,   0,   0,   0,   0,  25, 311],\n",
       "       [  0,   0,   0,   0,   0,  25, 311, 635],\n",
       "       [  0,   0,   0,   0,  25, 311, 635, 102],\n",
       "       [  0,   0,   0,  25, 311, 635, 102, 200],\n",
       "       [  0,   0,  25, 311, 635, 102, 200,  25],\n",
       "       [  0,  25, 311, 635, 102, 200,  25, 278]])"
      ]
     },
     "execution_count": 17,
     "metadata": {},
     "output_type": "execute_result"
    }
   ],
   "source": [
    "# Test the function with the n_grams_seq of the next 3 examples\n",
    "next_3_padded_seq = pad_seqs(next_3_examples_sequence, max([len(s) for s in next_3_examples_sequence]))\n",
    "next_3_padded_seq"
   ]
  },
  {
   "cell_type": "code",
   "execution_count": 21,
   "id": "bc79001e",
   "metadata": {},
   "outputs": [
    {
     "name": "stdout",
     "output_type": "stream",
     "text": [
      "padded corpus has shape: (15462, 11)\n"
     ]
    }
   ],
   "source": [
    "# Pad the whole corpus\n",
    "input_sequences = pad_seqs(input_sequences, max_sequence_len)\n",
    "\n",
    "print(f\"padded corpus has shape: {input_sequences.shape}\")"
   ]
  },
  {
   "cell_type": "markdown",
   "id": "ffc42348",
   "metadata": {},
   "source": [
    "## Split the data into features and labels\n",
    "\n",
    "Before feeding the data into the neural network we should split it into features and labels. In this case the features will be the padded n_gram sequences with the last word removed from them and the labels will be the removed word.\n",
    "\n",
    "This function expects the padded n_gram sequences as input and should return a tuple containing the features and the one hot encoded labels.\n",
    "\n",
    "Notice that the function also receives the total of words in the corpus, this parameter will be very important when one hot enconding the labels since every word in the corpus will be a label at least once.\n"
   ]
  },
  {
   "cell_type": "code",
   "execution_count": 22,
   "id": "c19d7903",
   "metadata": {},
   "outputs": [],
   "source": [
    "def features_and_labels(input_sequences, total_words):  \n",
    "    features = input_sequences[:,:-1]\n",
    "    labels = input_sequences[:,-1]\n",
    "    one_hot_labels =  to_categorical(labels, num_classes=total_words)\n",
    "    \n",
    "\n",
    "    return features, one_hot_labels"
   ]
  },
  {
   "cell_type": "code",
   "execution_count": 23,
   "id": "6a27958a",
   "metadata": {},
   "outputs": [
    {
     "name": "stdout",
     "output_type": "stream",
     "text": [
      "labels have shape: (5, 3211)\n",
      "\n",
      "features look like this:\n",
      "\n"
     ]
    },
    {
     "data": {
      "text/plain": [
       "array([[  0,   0,   0,   0,  34],\n",
       "       [  0,   0,   0,  34, 417],\n",
       "       [  0,   0,  34, 417, 877],\n",
       "       [  0,  34, 417, 877, 166],\n",
       "       [ 34, 417, 877, 166, 213]])"
      ]
     },
     "execution_count": 23,
     "metadata": {},
     "output_type": "execute_result"
    }
   ],
   "source": [
    "# Test the function with the padded n_grams_seq of the first example\n",
    "first_features, first_labels = features_and_labels(first_padded_seq, total_words)\n",
    "\n",
    "print(f\"labels have shape: {first_labels.shape}\")\n",
    "print(\"\\nfeatures look like this:\\n\")\n",
    "first_features"
   ]
  },
  {
   "cell_type": "code",
   "execution_count": 24,
   "id": "4ad094b5",
   "metadata": {},
   "outputs": [
    {
     "name": "stdout",
     "output_type": "stream",
     "text": [
      "features have shape: (15462, 10)\n",
      "labels have shape: (15462, 3211)\n"
     ]
    }
   ],
   "source": [
    "# Split the whole corpus\n",
    "features, labels = features_and_labels(input_sequences, total_words)\n",
    "\n",
    "print(f\"features have shape: {features.shape}\")\n",
    "print(f\"labels have shape: {labels.shape}\")"
   ]
  },
  {
   "cell_type": "markdown",
   "id": "4876292c",
   "metadata": {},
   "source": [
    "## Create the model\n",
    "\n",
    "Now we should define a model architecture capable of achieving an accuracy of at least 80%.\n",
    "\n",
    "model architecture\n",
    "\n",
    "- An appropriate `output_dim` for the first layer (Embedding) is 100.\n",
    "- A Bidirectional LSTM is helpful for this particular problem.\n",
    "- The last layer should have the same number of units as the total number of words in the corpus and a softmax activation function.\n",
    "- This problem can be solved with only two layers (excluding the Embedding) ."
   ]
  },
  {
   "cell_type": "code",
   "execution_count": 45,
   "id": "d15e5294",
   "metadata": {},
   "outputs": [],
   "source": [
    "def create_model(total_words, max_sequence_len):\n",
    "    model = Sequential()\n",
    "    model.add(Embedding(total_words, 100, input_length=max_sequence_len - 1))\n",
    "    model.add(Bidirectional(LSTM(80)))\n",
    "    model.add(Dense(total_words, activation='softmax'))\n",
    "\n",
    "    # Compile the model\n",
    "    model.compile(loss='categorical_crossentropy',\n",
    "                  optimizer='adam',\n",
    "                  metrics=['accuracy'])\n",
    "\n",
    "\n",
    "    return model"
   ]
  },
  {
   "cell_type": "code",
   "execution_count": 46,
   "id": "39031b8e",
   "metadata": {},
   "outputs": [
    {
     "name": "stdout",
     "output_type": "stream",
     "text": [
      "Epoch 1/50\n",
      "484/484 [==============================] - 9s 13ms/step - loss: 6.9027 - accuracy: 0.0235\n",
      "Epoch 2/50\n",
      "484/484 [==============================] - 6s 13ms/step - loss: 6.4499 - accuracy: 0.0294\n",
      "Epoch 3/50\n",
      "484/484 [==============================] - 6s 12ms/step - loss: 6.2381 - accuracy: 0.0397\n",
      "Epoch 4/50\n",
      "484/484 [==============================] - 6s 12ms/step - loss: 6.0313 - accuracy: 0.0464\n",
      "Epoch 5/50\n",
      "484/484 [==============================] - 6s 12ms/step - loss: 5.8133 - accuracy: 0.0550\n",
      "Epoch 6/50\n",
      "484/484 [==============================] - 6s 12ms/step - loss: 5.5777 - accuracy: 0.0636\n",
      "Epoch 7/50\n",
      "484/484 [==============================] - 6s 12ms/step - loss: 5.3279 - accuracy: 0.0748\n",
      "Epoch 8/50\n",
      "484/484 [==============================] - 6s 12ms/step - loss: 5.0695 - accuracy: 0.0869\n",
      "Epoch 9/50\n",
      "484/484 [==============================] - 6s 12ms/step - loss: 4.8165 - accuracy: 0.1031\n",
      "Epoch 10/50\n",
      "484/484 [==============================] - 6s 12ms/step - loss: 4.5697 - accuracy: 0.1279\n",
      "Epoch 11/50\n",
      "484/484 [==============================] - 6s 12ms/step - loss: 4.3257 - accuracy: 0.1522\n",
      "Epoch 12/50\n",
      "484/484 [==============================] - 6s 12ms/step - loss: 4.0929 - accuracy: 0.1841\n",
      "Epoch 13/50\n",
      "484/484 [==============================] - 6s 12ms/step - loss: 3.8664 - accuracy: 0.2197\n",
      "Epoch 14/50\n",
      "484/484 [==============================] - 6s 12ms/step - loss: 3.6499 - accuracy: 0.2582\n",
      "Epoch 15/50\n",
      "484/484 [==============================] - 6s 12ms/step - loss: 3.4417 - accuracy: 0.2947\n",
      "Epoch 16/50\n",
      "484/484 [==============================] - 6s 12ms/step - loss: 3.2399 - accuracy: 0.3313\n",
      "Epoch 17/50\n",
      "484/484 [==============================] - 6s 12ms/step - loss: 3.0560 - accuracy: 0.3690\n",
      "Epoch 18/50\n",
      "484/484 [==============================] - 7s 14ms/step - loss: 2.8862 - accuracy: 0.4005\n",
      "Epoch 19/50\n",
      "484/484 [==============================] - 6s 13ms/step - loss: 2.7099 - accuracy: 0.4383\n",
      "Epoch 20/50\n",
      "484/484 [==============================] - 6s 13ms/step - loss: 2.5622 - accuracy: 0.4670\n",
      "Epoch 21/50\n",
      "484/484 [==============================] - 6s 13ms/step - loss: 2.4207 - accuracy: 0.4935\n",
      "Epoch 22/50\n",
      "484/484 [==============================] - 6s 12ms/step - loss: 2.2887 - accuracy: 0.5233\n",
      "Epoch 23/50\n",
      "484/484 [==============================] - 6s 13ms/step - loss: 2.1657 - accuracy: 0.5503\n",
      "Epoch 24/50\n",
      "484/484 [==============================] - 6s 12ms/step - loss: 2.0460 - accuracy: 0.5742\n",
      "Epoch 25/50\n",
      "484/484 [==============================] - 6s 12ms/step - loss: 1.9310 - accuracy: 0.5957\n",
      "Epoch 26/50\n",
      "484/484 [==============================] - 6s 12ms/step - loss: 1.8306 - accuracy: 0.6187\n",
      "Epoch 27/50\n",
      "484/484 [==============================] - 6s 12ms/step - loss: 1.7349 - accuracy: 0.6407\n",
      "Epoch 28/50\n",
      "484/484 [==============================] - 6s 13ms/step - loss: 1.6412 - accuracy: 0.6573\n",
      "Epoch 29/50\n",
      "484/484 [==============================] - 6s 12ms/step - loss: 1.5623 - accuracy: 0.6762\n",
      "Epoch 30/50\n",
      "484/484 [==============================] - 6s 13ms/step - loss: 1.4888 - accuracy: 0.6904\n",
      "Epoch 31/50\n",
      "484/484 [==============================] - 6s 13ms/step - loss: 1.4143 - accuracy: 0.7082\n",
      "Epoch 32/50\n",
      "484/484 [==============================] - 6s 13ms/step - loss: 1.3430 - accuracy: 0.7204\n",
      "Epoch 33/50\n",
      "484/484 [==============================] - 6s 13ms/step - loss: 1.2846 - accuracy: 0.7336\n",
      "Epoch 34/50\n",
      "484/484 [==============================] - 6s 13ms/step - loss: 1.2279 - accuracy: 0.7448\n",
      "Epoch 35/50\n",
      "484/484 [==============================] - 6s 12ms/step - loss: 1.1703 - accuracy: 0.7581\n",
      "Epoch 36/50\n",
      "484/484 [==============================] - 6s 13ms/step - loss: 1.1217 - accuracy: 0.7650\n",
      "Epoch 37/50\n",
      "484/484 [==============================] - 6s 12ms/step - loss: 1.0660 - accuracy: 0.7779\n",
      "Epoch 38/50\n",
      "484/484 [==============================] - 6s 12ms/step - loss: 1.0239 - accuracy: 0.7860\n",
      "Epoch 39/50\n",
      "484/484 [==============================] - 6s 13ms/step - loss: 0.9850 - accuracy: 0.7923\n",
      "Epoch 40/50\n",
      "484/484 [==============================] - 6s 12ms/step - loss: 0.9479 - accuracy: 0.7984\n",
      "Epoch 41/50\n",
      "484/484 [==============================] - 6s 13ms/step - loss: 0.9182 - accuracy: 0.8075\n",
      "Epoch 42/50\n",
      "484/484 [==============================] - 6s 12ms/step - loss: 0.8859 - accuracy: 0.8113\n",
      "Epoch 43/50\n",
      "484/484 [==============================] - 6s 13ms/step - loss: 0.8568 - accuracy: 0.8152\n",
      "Epoch 44/50\n",
      "484/484 [==============================] - 6s 13ms/step - loss: 0.8335 - accuracy: 0.8175\n",
      "Epoch 45/50\n",
      "484/484 [==============================] - 6s 12ms/step - loss: 0.8103 - accuracy: 0.8238\n",
      "Epoch 46/50\n",
      "484/484 [==============================] - 6s 12ms/step - loss: 0.7816 - accuracy: 0.8260\n",
      "Epoch 47/50\n",
      "484/484 [==============================] - 6s 12ms/step - loss: 0.7543 - accuracy: 0.8321\n",
      "Epoch 48/50\n",
      "484/484 [==============================] - 6s 12ms/step - loss: 0.7434 - accuracy: 0.8326\n",
      "Epoch 49/50\n",
      "484/484 [==============================] - 6s 13ms/step - loss: 0.7262 - accuracy: 0.8355\n",
      "Epoch 50/50\n",
      "484/484 [==============================] - 6s 12ms/step - loss: 0.7049 - accuracy: 0.8380\n"
     ]
    }
   ],
   "source": [
    "# Get the untrained model\n",
    "model = create_model(total_words, max_sequence_len)\n",
    "\n",
    "# Train the model\n",
    "history = model.fit(features, labels, epochs=50, verbose=1)"
   ]
  },
  {
   "cell_type": "code",
   "execution_count": 47,
   "id": "4d7d9755",
   "metadata": {},
   "outputs": [
    {
     "data": {
      "image/png": "[encoded data removed]",
      "text/plain": [
       "<Figure size 640x480 with 1 Axes>"
      ]
     },
     "metadata": {},
     "output_type": "display_data"
    },
    {
     "data": {
      "image/png": "[encoded data removed]",
      "text/plain": [
       "<Figure size 640x480 with 1 Axes>"
      ]
     },
     "metadata": {},
     "output_type": "display_data"
    }
   ],
   "source": [
    "# Take a look at the training curves of your model\n",
    "\n",
    "acc = history.history['accuracy']\n",
    "loss = history.history['loss']\n",
    "\n",
    "epochs = range(len(acc))\n",
    "\n",
    "plt.plot(epochs, acc, 'b', label='Training accuracy')\n",
    "plt.title('Training accuracy')\n",
    "\n",
    "plt.figure()\n",
    "\n",
    "plt.plot(epochs, loss, 'b', label='Training Loss')\n",
    "plt.title('Training loss')\n",
    "plt.legend()\n",
    "\n",
    "plt.show()"
   ]
  },
  {
   "cell_type": "code",
   "execution_count": 48,
   "id": "c2be4aa6",
   "metadata": {},
   "outputs": [],
   "source": [
    "model.save(\"model/shakespear_generator.h5\")"
   ]
  },
  {
   "cell_type": "code",
   "execution_count": 51,
   "id": "7457b479",
   "metadata": {},
   "outputs": [
    {
     "name": "stdout",
     "output_type": "stream",
     "text": [
      "Shall I compare thee to a summer's day to me new friend the centre something glutton the very to common seem'd frown her to none none ear fond in thee the best winter's day sun on nature's boughs or night on perfection daily drop featureless breasts bequest dream are stand eisel doth such first is lie to any leisure on me now but alone lies bright again out o'er stol'n thy life ever be taken the grave was buried heart is light as kind and day doth first him gone on thy humour doth tell it fire i lie so happy did exceed none none grows near deceive\n"
     ]
    }
   ],
   "source": [
    "\n",
    "def generate_poem(seed_text,model=model, next_words=100):\n",
    "    for _ in range(next_words):\n",
    "        # Convert the text into sequences\n",
    "        token_list = tokenizer.texts_to_sequences([seed_text])[0]\n",
    "        # Pad the sequences\n",
    "        token_list = pad_sequences([token_list], maxlen=max_sequence_len-1, padding='pre')\n",
    "        # Get the probabilities of predicting a word\n",
    "        predicted = model.predict(token_list, verbose=0)\n",
    "        # Choose the next word based on the maximum probability\n",
    "        predicted = np.argmax(predicted, axis=-1).item()\n",
    "        # Get the actual word from the word index\n",
    "        output_word = tokenizer.index_word[predicted]\n",
    "        # Append to the current text\n",
    "        seed_text += \" \" + output_word\n",
    "    return seed_text\n",
    "\n",
    "print(generate_poem(\"Shall I compare thee to a summer's day\"))"
   ]
  },
  {
   "cell_type": "code",
   "execution_count": 54,
   "id": "778404f0",
   "metadata": {},
   "outputs": [
    {
     "name": "stdout",
     "output_type": "stream",
     "text": [
      "Rough winds do shake the darling buds of May lie wind wind outworn held him born and you alone lie are so as as they fresh which hath left lose wood's night rarities men like of any eyes doth lie with me show'st blow very loving as no more knife note dumb wrack bequest bequest thievish told to perusal flow thank fond in state control it fire doth lie so born of mine one of thee one of thee be past your poor doth past sweet their virtue renew seem'd the shore mask'd clear it to show my seeing ' thee the dumb of thought was thorns of thine\n"
     ]
    }
   ],
   "source": [
    "# Using the model from the .h5 file \n",
    "from tensorflow.keras.models import load_model\n",
    "loaded_model = load_model(\"model/shakespear_generator.h5\")\n",
    "print(generate_poem(\"Rough winds do shake the darling buds of May\", model=loaded_model))"
   ]
  },
  {
   "cell_type": "code",
   "execution_count": null,
   "id": "296f0451",
   "metadata": {},
   "outputs": [],
   "source": []
  }
 ],
 "metadata": {
  "kernelspec": {
   "display_name": "Python tf_gpu",
   "language": "python",
   "name": "tf_gpu"
  },
  "language_info": {
   "codemirror_mode": {
    "name": "ipython",
    "version": 3
   },
   "file_extension": ".py",
   "mimetype": "text/x-python",
   "name": "python",
   "nbconvert_exporter": "python",
   "pygments_lexer": "ipython3",
   "version": "3.8.19"
  }
 },
 "nbformat": 4,
 "nbformat_minor": 5
}
